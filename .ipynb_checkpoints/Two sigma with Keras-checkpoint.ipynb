{
 "cells": [
  {
   "cell_type": "code",
   "execution_count": null,
   "metadata": {
    "_cell_guid": "b1076dfc-b9ad-4769-8c92-a6c4dae69d19",
    "_uuid": "8f2839f25d086af736a60e9eeb907d3b93b6e0e5",
    "scrolled": true
   },
   "outputs": [],
   "source": [
    "# This Python 3 environment comes with many helpful analytics libraries installed\n",
    "# It is defined by the kaggle/python docker image: https://github.com/kaggle/docker-python\n",
    "# For example, here's several helpful packages to load in \n",
    "\n",
    "import numpy as np\n",
    "import pandas as pd\n",
    "\n",
    "import plotly.offline as py\n",
    "py.init_notebook_mode(connected=True)\n",
    "import plotly.graph_objs as go\n",
    "import plotly.tools as tls\n",
    "\n",
    "from kaggle.competitions import twosigmanews\n",
    "\n",
    "pd.options.mode.chained_assignment = None\n",
    "pd.options.display.max_columns = 999\n",
    "\n",
    "# Get 2Sigma environment\n",
    "env = twosigmanews.make_env()\n",
    "# Any results you write to the current directory are saved as output."
   ]
  },
  {
   "cell_type": "code",
   "execution_count": null,
   "metadata": {
    "_uuid": "1d941865b1f7066d96bbe917b0ea268a0d0fdaf5"
   },
   "outputs": [],
   "source": [
    "from datetime import datetime"
   ]
  },
  {
   "cell_type": "code",
   "execution_count": null,
   "metadata": {
    "_uuid": "0cb2317c97c0917075d6bf485159fa1700293a53"
   },
   "outputs": [],
   "source": [
    "import numpy as np\n",
    "import pandas as pd\n",
    "import matplotlib.pyplot as plt\n",
    "from itertools import chain\n",
    "\n",
    "%matplotlib inline"
   ]
  },
  {
   "cell_type": "code",
   "execution_count": null,
   "metadata": {
    "_cell_guid": "79c7e3d0-c299-4dcb-8224-4455121ee9b0",
    "_uuid": "d629ff2d2480ee46fbb7e2d37f6b5fab8052498a"
   },
   "outputs": [],
   "source": [
    "(market_train_df, news_train_df) = env.get_training_data()"
   ]
  },
  {
   "cell_type": "code",
   "execution_count": null,
   "metadata": {
    "_uuid": "edac08acdcf512a0dfc028271cb0e1d71c625ce6"
   },
   "outputs": [],
   "source": [
    "market_train_df.dropna(inplace=True)"
   ]
  },
  {
   "cell_type": "code",
   "execution_count": null,
   "metadata": {
    "_uuid": "88254f263a72ed5b1bac42fbd9fac8f96f4705fb"
   },
   "outputs": [],
   "source": [
    "market_train_df = market_train_df[market_train_df['universe'] == 1]"
   ]
  },
  {
   "cell_type": "code",
   "execution_count": null,
   "metadata": {
    "_uuid": "84e7e38c49311857292378f33c95842ed07460c8"
   },
   "outputs": [],
   "source": [
    "news_train_df['day'] = news_train_df['time'].apply(lambda x: x.day)\n",
    "news_train_df['month'] = news_train_df['time'].apply(lambda x: x.month)\n",
    "news_train_df['year'] = news_train_df['time'].apply(lambda x: x.year)\n",
    "market_train_df['day'] = market_train_df['time'].apply(lambda x: x.day)\n",
    "market_train_df['month'] = market_train_df['time'].apply(lambda x: x.month)\n",
    "market_train_df['year'] = market_train_df['time'].apply(lambda x: x.year)\n",
    "\n"
   ]
  },
  {
   "cell_type": "code",
   "execution_count": null,
   "metadata": {
    "_uuid": "ab5a36be21f9dbcd8274bd70eea907ec3bc0c84d"
   },
   "outputs": [],
   "source": [
    "new_df = pd.merge(news_train_df, market_train_df,  how='left', left_on=['day','month','year','assetName'], right_on = ['day','month','year','assetName'])"
   ]
  },
  {
   "cell_type": "code",
   "execution_count": null,
   "metadata": {
    "_uuid": "20851a44995f7deca84d229d7505837896c009ab"
   },
   "outputs": [],
   "source": [
    "del market_train_df,news_train_df"
   ]
  },
  {
   "cell_type": "code",
   "execution_count": null,
   "metadata": {
    "_uuid": "89f7b5e9b4e6c58bf904e22d280052652c3328ef"
   },
   "outputs": [],
   "source": [
    "new_df['vol_diff'] = new_df['open'] - new_df['close']"
   ]
  },
  {
   "cell_type": "code",
   "execution_count": null,
   "metadata": {
    "_uuid": "44d07409bb5282a7dc834cd9d52a4bfa6756a3f8"
   },
   "outputs": [],
   "source": [
    "new_df.dropna(inplace=True)"
   ]
  },
  {
   "cell_type": "code",
   "execution_count": null,
   "metadata": {
    "_uuid": "83cc1451467d0cf1fca02fc9a7533b47134f45ff"
   },
   "outputs": [],
   "source": [
    "new_df.head(3)"
   ]
  },
  {
   "cell_type": "code",
   "execution_count": null,
   "metadata": {
    "_uuid": "ba1bb497d56dd52d1ca1e96d0608453e04e92b34"
   },
   "outputs": [],
   "source": [
    "from sklearn import preprocessing\n"
   ]
  },
  {
   "cell_type": "code",
   "execution_count": null,
   "metadata": {
    "_uuid": "697fe477d014516c00b36d3d41575c50a4bf5855"
   },
   "outputs": [],
   "source": [
    "cat_cols = ['assetCode','assetName','marketCommentary']"
   ]
  },
  {
   "cell_type": "code",
   "execution_count": null,
   "metadata": {
    "_uuid": "44e4a36272052ae3fc0005070127cf1e15d922db"
   },
   "outputs": [],
   "source": [
    "def encode(array, columns):\n",
    "    le = preprocessing.LabelEncoder()\n",
    "    for cols in columns:\n",
    "        le.fit(array[cols])\n",
    "        array[cols] = le.transform(array[cols])\n",
    "        \n",
    "    return array"
   ]
  },
  {
   "cell_type": "code",
   "execution_count": null,
   "metadata": {
    "_uuid": "e4149630cf75e868d6d7df0c508ae64400e7b5c9"
   },
   "outputs": [],
   "source": [
    "new_df = encode(new_df, cat_cols)"
   ]
  },
  {
   "cell_type": "code",
   "execution_count": null,
   "metadata": {
    "_uuid": "ba56a0e6b5aa9076fd45cb797b8522bbb3b1de8d"
   },
   "outputs": [],
   "source": []
  },
  {
   "cell_type": "code",
   "execution_count": null,
   "metadata": {
    "_uuid": "04ae824cdf49344f45bb92cf20f5d61402a1ac6c"
   },
   "outputs": [],
   "source": [
    "new_df.head(2)"
   ]
  },
  {
   "cell_type": "code",
   "execution_count": null,
   "metadata": {
    "_uuid": "37f5c2b1ad8531f599e6c4a475939a4db191e110"
   },
   "outputs": [],
   "source": [
    "new_df.head(1)"
   ]
  },
  {
   "cell_type": "code",
   "execution_count": null,
   "metadata": {
    "_uuid": "43f9cabe11ea27ca0e5ff8c3df8aed925e1a1d99"
   },
   "outputs": [],
   "source": [
    "X = new_df.drop(['universe','returnsOpenNextMktres10','provider','audiences','sourceTimestamp','time_x','firstCreated','sourceId','headline','subjects','audiences','headlineTag','assetCodes','time_y'],axis=1)\n",
    "y = new_df['returnsOpenNextMktres10']"
   ]
  },
  {
   "cell_type": "code",
   "execution_count": null,
   "metadata": {
    "_uuid": "3ad07cd4b8cc351ee1c1625ba384c067f2aa7df7"
   },
   "outputs": [],
   "source": [
    "del new_df"
   ]
  },
  {
   "cell_type": "code",
   "execution_count": null,
   "metadata": {
    "_uuid": "85686a753dda5287b8287d5623aa2cb9f737fc44"
   },
   "outputs": [],
   "source": [
    "X = X.tail(500000)\n",
    "y = y.tail(500000)"
   ]
  },
  {
   "cell_type": "code",
   "execution_count": null,
   "metadata": {
    "_uuid": "213f9d2fa1a3cb338174b16108253b8767813708"
   },
   "outputs": [],
   "source": [
    "from sklearn.preprocessing import StandardScaler\n",
    "scaler = StandardScaler()\n",
    "X[X.columns] = scaler.fit_transform(X[X.columns])"
   ]
  },
  {
   "cell_type": "code",
   "execution_count": null,
   "metadata": {
    "_uuid": "353df5af98cb137f69238897830286a9269ea437"
   },
   "outputs": [],
   "source": [
    "X.tail()"
   ]
  },
  {
   "cell_type": "code",
   "execution_count": null,
   "metadata": {
    "_uuid": "9f77b4d6bc46622e1d0af84f6d0741ce753d1b6c"
   },
   "outputs": [],
   "source": [
    "from sklearn.model_selection import train_test_split"
   ]
  },
  {
   "cell_type": "code",
   "execution_count": null,
   "metadata": {
    "_uuid": "337b57a2e0a84dc8d460b17eaea6ee2ccb3d0a36"
   },
   "outputs": [],
   "source": [
    "X_train, X_test, y_train, y_test = train_test_split(X, y, test_size=0.7, random_state=5)"
   ]
  },
  {
   "cell_type": "code",
   "execution_count": null,
   "metadata": {
    "_uuid": "529328be86c466e777b1287daf4aae14a11e89ed"
   },
   "outputs": [],
   "source": []
  },
  {
   "cell_type": "code",
   "execution_count": null,
   "metadata": {
    "_uuid": "196c6f08e89fc9fa8f54fdc472af77cd2f4934d7"
   },
   "outputs": [],
   "source": [
    "from keras.models import Sequential\n",
    "from keras.layers import Dense\n"
   ]
  },
  {
   "cell_type": "code",
   "execution_count": null,
   "metadata": {
    "_uuid": "694addb7bcbd63461c56e7ae56909c2a0b8034b2"
   },
   "outputs": [],
   "source": [
    "model = Sequential()\n",
    "model.add(Dense(units=20,input_shape=(41,),activation='relu'))\n",
    "model.add(Dense(units=30,activation='relu'))\n",
    "model.add(Dense(units=20,activation='relu'))\n",
    "model.add(Dense(units=10,activation='relu'))\n",
    "model.add(Dense(1, activation='linear'))"
   ]
  },
  {
   "cell_type": "code",
   "execution_count": null,
   "metadata": {
    "_uuid": "43b75f1801f9a0274e82395aa92da69d3769918b"
   },
   "outputs": [],
   "source": [
    "from keras import optimizers\n",
    "optimizer = optimizers.adam(0.001)"
   ]
  },
  {
   "cell_type": "code",
   "execution_count": null,
   "metadata": {
    "_uuid": "53097c183f406c1462dc201fe4f38be449c96adb"
   },
   "outputs": [],
   "source": [
    "model.compile(optimizer=optimizer,loss='mean_squared_error',metrics=['mae'])"
   ]
  },
  {
   "cell_type": "code",
   "execution_count": null,
   "metadata": {
    "_uuid": "0261688d83ed5e404e3712d94853655508221f31"
   },
   "outputs": [],
   "source": [
    "model.fit(x=X_train,y=y_train,epochs=500,batch_size=1000)"
   ]
  },
  {
   "cell_type": "code",
   "execution_count": null,
   "metadata": {
    "_uuid": "739ab59316ab7e9a80a15da90c0f295ddac403aa"
   },
   "outputs": [],
   "source": [
    "def make_predictions(predictions_template_df, market_obs_df,news_obs_df):\n",
    "    news_obs_df['day'] = news_obs_df['time'].apply(lambda x: x.day)\n",
    "    news_obs_df['month'] = news_obs_df['time'].apply(lambda x: x.month)\n",
    "    news_obs_df['year'] = news_obs_df['time'].apply(lambda x: x.year)\n",
    "    market_obs_df['day'] = market_obs_df['time'].apply(lambda x: x.day)\n",
    "    market_obs_df['month'] = market_obs_df['time'].apply(lambda x: x.month)\n",
    "    market_obs_df['year'] = market_obs_df['time'].apply(lambda x: x.year)\n",
    "    \n",
    "    news_obs_df = news_obs_df.groupby(['day','month','year','assetName']).mean()\n",
    "    # new = pd.merge(market_obs_df, news_obs_df,  how='left', left_on=['day','month','year','assetName'], right_on = ['day','month','year','assetName'])\n",
    "    new = pd.merge(news_train_df, market_train_df,  how='left', left_on=['day','month','year','assetName'], right_on = ['day','month','year','assetName'])\n",
    "    new = new.fillna(0)\n",
    "    new = encode(new, cat_cols)\n",
    "    X = new.drop(['audiences','sourceTimestamp','time_x','firstCreated','sourceId','headline','subjects','audiences','headlineTag','assetCodes','time_y'],axis=1)\n",
    "    X = sc.transform(X)\n",
    "    predictions_template_df.confidenceValue = np.clip((model.predict(X)), -1, 1)"
   ]
  },
  {
   "cell_type": "code",
   "execution_count": null,
   "metadata": {
    "_uuid": "6790697d0e076a921b7dcb0687895e3bae3b812c"
   },
   "outputs": [],
   "source": []
  },
  {
   "cell_type": "code",
   "execution_count": null,
   "metadata": {
    "_uuid": "aa132f2076b4807cc1786103d6e5683bae06994a"
   },
   "outputs": [],
   "source": [
    "days = env.get_prediction_days()"
   ]
  },
  {
   "cell_type": "code",
   "execution_count": null,
   "metadata": {
    "_uuid": "97c82851789c2aa5a57200d33f160bf21da47d14"
   },
   "outputs": [],
   "source": [
    "count = 1\n",
    "for (market_obs_df, news_obs_df, predictions_template_df) in days:\n",
    "    make_predictions(predictions_template_df, market_obs_df,news_obs_df)\n",
    "    env.predict(predictions_template_df)\n",
    "    print(count)\n",
    "    count = count + 1\n",
    "print('Done!')"
   ]
  },
  {
   "cell_type": "code",
   "execution_count": null,
   "metadata": {
    "_uuid": "dc9e84fb41526c4fcaea6a6342192d14bf9c86e1"
   },
   "outputs": [],
   "source": [
    "# env.predict(predictions_template_df)"
   ]
  },
  {
   "cell_type": "code",
   "execution_count": null,
   "metadata": {
    "_uuid": "e3e3d9e7bb5b206d4e810b2c988a5d0d51fd8b48",
    "scrolled": true
   },
   "outputs": [],
   "source": [
    "env.write_submission_file()"
   ]
  },
  {
   "cell_type": "code",
   "execution_count": null,
   "metadata": {
    "_uuid": "90ef2060ab0d4ad7de6a68584cdeaa5d254ff438"
   },
   "outputs": [],
   "source": []
  }
 ],
 "metadata": {
  "kernelspec": {
   "display_name": "Python 3",
   "language": "python",
   "name": "python3"
  },
  "language_info": {
   "codemirror_mode": {
    "name": "ipython",
    "version": 3
   },
   "file_extension": ".py",
   "mimetype": "text/x-python",
   "name": "python",
   "nbconvert_exporter": "python",
   "pygments_lexer": "ipython3",
   "version": "3.6.2"
  }
 },
 "nbformat": 4,
 "nbformat_minor": 1
}
