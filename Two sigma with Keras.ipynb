{
  "cells": [
    {
      "metadata": {
        "_uuid": "8f2839f25d086af736a60e9eeb907d3b93b6e0e5",
        "_cell_guid": "b1076dfc-b9ad-4769-8c92-a6c4dae69d19",
        "trusted": true,
        "scrolled": true
      },
      "cell_type": "code",
      "source": "# This Python 3 environment comes with many helpful analytics libraries installed\n# It is defined by the kaggle/python docker image: https://github.com/kaggle/docker-python\n# For example, here's several helpful packages to load in \n\nimport numpy as np\nimport pandas as pd\n\nimport plotly.offline as py\npy.init_notebook_mode(connected=True)\nimport plotly.graph_objs as go\nimport plotly.tools as tls\n\nfrom kaggle.competitions import twosigmanews\n\npd.options.mode.chained_assignment = None\npd.options.display.max_columns = 999\n\n# Get 2Sigma environment\nenv = twosigmanews.make_env()\n# Any results you write to the current directory are saved as output.",
      "execution_count": null,
      "outputs": []
    },
    {
      "metadata": {
        "trusted": true,
        "_uuid": "1d941865b1f7066d96bbe917b0ea268a0d0fdaf5"
      },
      "cell_type": "code",
      "source": "from datetime import datetime",
      "execution_count": null,
      "outputs": []
    },
    {
      "metadata": {
        "trusted": true,
        "_uuid": "0cb2317c97c0917075d6bf485159fa1700293a53"
      },
      "cell_type": "code",
      "source": "import numpy as np\nimport pandas as pd\nimport matplotlib.pyplot as plt\nfrom itertools import chain\n\n%matplotlib inline",
      "execution_count": null,
      "outputs": []
    },
    {
      "metadata": {
        "_cell_guid": "79c7e3d0-c299-4dcb-8224-4455121ee9b0",
        "_uuid": "d629ff2d2480ee46fbb7e2d37f6b5fab8052498a",
        "trusted": true
      },
      "cell_type": "code",
      "source": "(market_train_df, news_train_df) = env.get_training_data()",
      "execution_count": null,
      "outputs": []
    },
    {
      "metadata": {
        "trusted": true,
        "_uuid": "edac08acdcf512a0dfc028271cb0e1d71c625ce6"
      },
      "cell_type": "code",
      "source": "market_train_df.dropna(inplace=True)",
      "execution_count": null,
      "outputs": []
    },
    {
      "metadata": {
        "trusted": true,
        "_uuid": "88254f263a72ed5b1bac42fbd9fac8f96f4705fb"
      },
      "cell_type": "code",
      "source": "market_train_df = market_train_df[market_train_df['universe'] == 1]",
      "execution_count": null,
      "outputs": []
    },
    {
      "metadata": {
        "trusted": true,
        "_uuid": "84e7e38c49311857292378f33c95842ed07460c8"
      },
      "cell_type": "code",
      "source": "news_train_df['day'] = news_train_df['time'].apply(lambda x: x.day)\nnews_train_df['month'] = news_train_df['time'].apply(lambda x: x.month)\nnews_train_df['year'] = news_train_df['time'].apply(lambda x: x.year)\nmarket_train_df['day'] = market_train_df['time'].apply(lambda x: x.day)\nmarket_train_df['month'] = market_train_df['time'].apply(lambda x: x.month)\nmarket_train_df['year'] = market_train_df['time'].apply(lambda x: x.year)\n\n",
      "execution_count": null,
      "outputs": []
    },
    {
      "metadata": {
        "trusted": true,
        "_uuid": "ab5a36be21f9dbcd8274bd70eea907ec3bc0c84d"
      },
      "cell_type": "code",
      "source": "new_df = pd.merge(news_train_df, market_train_df,  how='left', left_on=['day','month','year','assetName'], right_on = ['day','month','year','assetName'])",
      "execution_count": null,
      "outputs": []
    },
    {
      "metadata": {
        "trusted": true,
        "_uuid": "20851a44995f7deca84d229d7505837896c009ab"
      },
      "cell_type": "code",
      "source": "del market_train_df,news_train_df",
      "execution_count": null,
      "outputs": []
    },
    {
      "metadata": {
        "trusted": true,
        "_uuid": "89f7b5e9b4e6c58bf904e22d280052652c3328ef"
      },
      "cell_type": "code",
      "source": "new_df['vol_diff'] = new_df['open'] - new_df['close']",
      "execution_count": null,
      "outputs": []
    },
    {
      "metadata": {
        "trusted": true,
        "_uuid": "44d07409bb5282a7dc834cd9d52a4bfa6756a3f8"
      },
      "cell_type": "code",
      "source": "new_df.dropna(inplace=True)",
      "execution_count": null,
      "outputs": []
    },
    {
      "metadata": {
        "trusted": true,
        "_uuid": "83cc1451467d0cf1fca02fc9a7533b47134f45ff"
      },
      "cell_type": "code",
      "source": "new_df.head(3)",
      "execution_count": null,
      "outputs": []
    },
    {
      "metadata": {
        "trusted": true,
        "_uuid": "ba1bb497d56dd52d1ca1e96d0608453e04e92b34"
      },
      "cell_type": "code",
      "source": "from sklearn import preprocessing\n",
      "execution_count": null,
      "outputs": []
    },
    {
      "metadata": {
        "trusted": true,
        "_uuid": "697fe477d014516c00b36d3d41575c50a4bf5855"
      },
      "cell_type": "code",
      "source": "cat_cols = ['assetCode','assetName','marketCommentary']",
      "execution_count": null,
      "outputs": []
    },
    {
      "metadata": {
        "trusted": true,
        "_uuid": "44e4a36272052ae3fc0005070127cf1e15d922db"
      },
      "cell_type": "code",
      "source": "def encode(array, columns):\n    le = preprocessing.LabelEncoder()\n    for cols in columns:\n        le.fit(array[cols])\n        array[cols] = le.transform(array[cols])\n        \n    return array",
      "execution_count": null,
      "outputs": []
    },
    {
      "metadata": {
        "trusted": true,
        "_uuid": "e4149630cf75e868d6d7df0c508ae64400e7b5c9"
      },
      "cell_type": "code",
      "source": "new_df = encode(new_df, cat_cols)",
      "execution_count": null,
      "outputs": []
    },
    {
      "metadata": {
        "trusted": true,
        "_uuid": "ba56a0e6b5aa9076fd45cb797b8522bbb3b1de8d"
      },
      "cell_type": "code",
      "source": "",
      "execution_count": null,
      "outputs": []
    },
    {
      "metadata": {
        "trusted": true,
        "_uuid": "04ae824cdf49344f45bb92cf20f5d61402a1ac6c"
      },
      "cell_type": "code",
      "source": "new_df.head(2)",
      "execution_count": null,
      "outputs": []
    },
    {
      "metadata": {
        "trusted": true,
        "_uuid": "37f5c2b1ad8531f599e6c4a475939a4db191e110"
      },
      "cell_type": "code",
      "source": "new_df.head(1)",
      "execution_count": null,
      "outputs": []
    },
    {
      "metadata": {
        "trusted": true,
        "_uuid": "43f9cabe11ea27ca0e5ff8c3df8aed925e1a1d99"
      },
      "cell_type": "code",
      "source": "X = new_df.drop(['universe','returnsOpenNextMktres10','provider','audiences','sourceTimestamp','time_x','firstCreated','sourceId','headline','subjects','audiences','headlineTag','assetCodes','time_y'],axis=1)\ny = new_df['returnsOpenNextMktres10']",
      "execution_count": null,
      "outputs": []
    },
    {
      "metadata": {
        "trusted": true,
        "_uuid": "3ad07cd4b8cc351ee1c1625ba384c067f2aa7df7"
      },
      "cell_type": "code",
      "source": "del new_df",
      "execution_count": null,
      "outputs": []
    },
    {
      "metadata": {
        "trusted": true,
        "_uuid": "85686a753dda5287b8287d5623aa2cb9f737fc44"
      },
      "cell_type": "code",
      "source": "X = X.tail(500000)\ny = y.tail(500000)",
      "execution_count": null,
      "outputs": []
    },
    {
      "metadata": {
        "trusted": true,
        "_uuid": "213f9d2fa1a3cb338174b16108253b8767813708"
      },
      "cell_type": "code",
      "source": "from sklearn.preprocessing import StandardScaler\nscaler = StandardScaler()\nX[X.columns] = scaler.fit_transform(X[X.columns])",
      "execution_count": null,
      "outputs": []
    },
    {
      "metadata": {
        "trusted": true,
        "_uuid": "353df5af98cb137f69238897830286a9269ea437"
      },
      "cell_type": "code",
      "source": "X.tail()",
      "execution_count": null,
      "outputs": []
    },
    {
      "metadata": {
        "trusted": true,
        "_uuid": "9f77b4d6bc46622e1d0af84f6d0741ce753d1b6c"
      },
      "cell_type": "code",
      "source": "from sklearn.model_selection import train_test_split",
      "execution_count": null,
      "outputs": []
    },
    {
      "metadata": {
        "trusted": true,
        "_uuid": "337b57a2e0a84dc8d460b17eaea6ee2ccb3d0a36"
      },
      "cell_type": "code",
      "source": "X_train, X_test, y_train, y_test = train_test_split(X, y, test_size=0.7, random_state=5)",
      "execution_count": null,
      "outputs": []
    },
    {
      "metadata": {
        "trusted": true,
        "_uuid": "529328be86c466e777b1287daf4aae14a11e89ed"
      },
      "cell_type": "code",
      "source": "",
      "execution_count": null,
      "outputs": []
    },
    {
      "metadata": {
        "trusted": true,
        "_uuid": "196c6f08e89fc9fa8f54fdc472af77cd2f4934d7"
      },
      "cell_type": "code",
      "source": "from keras.models import Sequential\nfrom keras.layers import Dense\n",
      "execution_count": null,
      "outputs": []
    },
    {
      "metadata": {
        "trusted": true,
        "_uuid": "694addb7bcbd63461c56e7ae56909c2a0b8034b2"
      },
      "cell_type": "code",
      "source": "model = Sequential()\nmodel.add(Dense(units=20,input_shape=(41,),activation='relu'))\nmodel.add(Dense(units=30,activation='relu'))\nmodel.add(Dense(units=20,activation='relu'))\nmodel.add(Dense(units=10,activation='relu'))\nmodel.add(Dense(1, activation='linear'))",
      "execution_count": null,
      "outputs": []
    },
    {
      "metadata": {
        "trusted": true,
        "_uuid": "43b75f1801f9a0274e82395aa92da69d3769918b"
      },
      "cell_type": "code",
      "source": "from keras import optimizers\noptimizer = optimizers.adam(0.001)",
      "execution_count": null,
      "outputs": []
    },
    {
      "metadata": {
        "trusted": true,
        "_uuid": "53097c183f406c1462dc201fe4f38be449c96adb"
      },
      "cell_type": "code",
      "source": "model.compile(optimizer=optimizer,loss='mean_squared_error',metrics=['mae'])",
      "execution_count": null,
      "outputs": []
    },
    {
      "metadata": {
        "trusted": true,
        "_uuid": "0261688d83ed5e404e3712d94853655508221f31"
      },
      "cell_type": "code",
      "source": "model.fit(x=X_train,y=y_train,epochs=500,batch_size=1000)",
      "execution_count": null,
      "outputs": []
    },
    {
      "metadata": {
        "trusted": true,
        "_uuid": "739ab59316ab7e9a80a15da90c0f295ddac403aa"
      },
      "cell_type": "code",
      "source": "def make_predictions(predictions_template_df, market_obs_df,news_obs_df):\n    news_obs_df['day'] = news_obs_df['time'].apply(lambda x: x.day)\n    news_obs_df['month'] = news_obs_df['time'].apply(lambda x: x.month)\n    news_obs_df['year'] = news_obs_df['time'].apply(lambda x: x.year)\n    market_obs_df['day'] = market_obs_df['time'].apply(lambda x: x.day)\n    market_obs_df['month'] = market_obs_df['time'].apply(lambda x: x.month)\n    market_obs_df['year'] = market_obs_df['time'].apply(lambda x: x.year)\n    \n    news_obs_df = news_obs_df.groupby(['day','month','year','assetName']).mean()\n    # new = pd.merge(market_obs_df, news_obs_df,  how='left', left_on=['day','month','year','assetName'], right_on = ['day','month','year','assetName'])\n    new = pd.merge(news_train_df, market_train_df,  how='left', left_on=['day','month','year','assetName'], right_on = ['day','month','year','assetName'])\n    new = new.fillna(0)\n    new = encode(new, cat_cols)\n    X = new.drop(['audiences','sourceTimestamp','time_x','firstCreated','sourceId','headline','subjects','audiences','headlineTag','assetCodes','time_y'],axis=1)\n    X = sc.transform(X)\n    predictions_template_df.confidenceValue = np.clip((model.predict(X)), -1, 1)",
      "execution_count": null,
      "outputs": []
    },
    {
      "metadata": {
        "trusted": true,
        "_uuid": "a8fcd3017bdb7e7dc5cc71f6bed8197f6f4385c1"
      },
      "cell_type": "code",
      "source": "news_obs_df['day'] = news_obs_df['time'].apply(lambda x: x.day)\nnews_obs_df['month'] = news_obs_df['time'].apply(lambda x: x.month)\nnews_obs_df['year'] = news_obs_df['time'].apply(lambda x: x.year)\nmarket_obs_df['day'] = market_obs_df['time'].apply(lambda x: x.day)\nmarket_obs_df['month'] = market_obs_df['time'].apply(lambda x: x.month)\nmarket_obs_df['year'] = market_obs_df['time'].apply(lambda x: x.year)\n['audiences' 'sourceTimestamp' 'time_x' 'firstCreated' 'sourceId'\\n 'headline' 'subjects' 'audiences' 'headlineTag' 'assetCodes' 'time_y'] \nnews_obs_df = news_obs_df.groupby(['day','month','year','assetName']).mean()\n# new = pd.merge(market_obs_df, news_obs_df,  how='left', left_on=['day','month','year','assetName'], right_on = ['day','month','year','assetName'])\nnew = pd.merge(market_obs_df, news_obs_df, on=['day','month','year','assetName'], how='left')\nnew = new.fillna(0)\nnew = encode(new, cat_cols)\nX = new.drop(['audiences','sourceTimestamp','time_x','firstCreated','sourceId','headline','subjects','audiences','headlineTag','assetCodes','time_y'],axis=1)\n\n\nX = X.fillna(0)\nX = sc.transform(X)\npredictions_template_df.confidenceValue = np.clip((model.predict(X)), -1, 1)",
      "execution_count": null,
      "outputs": []
    },
    {
      "metadata": {
        "trusted": true,
        "_uuid": "81f8a6570e61f1293df763b0dfd14fe2e9afb7e6"
      },
      "cell_type": "code",
      "source": "X.head(2)",
      "execution_count": null,
      "outputs": []
    },
    {
      "metadata": {
        "trusted": true,
        "_uuid": "b153ffc687cb26504749409f4c3d86e6684c1d87"
      },
      "cell_type": "code",
      "source": "new.head()",
      "execution_count": null,
      "outputs": []
    },
    {
      "metadata": {
        "trusted": true,
        "_uuid": "8ec02957ca3b01272f24eeae5779c8bd6bf2216f"
      },
      "cell_type": "code",
      "source": "# calculation of actual metric that is used to calculate final score\nr_valid = r_valid.clip(-1,1) # get rid of outliers. Where do they come from??\nx_t_i = confidence_valid * r_valid * u_valid\ndata = {'day' : d_valid, 'x_t_i' : x_t_i}\ndf = pd.DataFrame(data)\nx_t = df.groupby('day').sum().values.flatten()\nmean = np.mean(x_t)\nstd = np.std(x_t)\nscore_valid = mean / std\nprint(score_valid)",
      "execution_count": null,
      "outputs": []
    },
    {
      "metadata": {
        "trusted": true,
        "_uuid": "6790697d0e076a921b7dcb0687895e3bae3b812c"
      },
      "cell_type": "code",
      "source": "",
      "execution_count": null,
      "outputs": []
    },
    {
      "metadata": {
        "trusted": true,
        "_uuid": "aa132f2076b4807cc1786103d6e5683bae06994a"
      },
      "cell_type": "code",
      "source": "days = env.get_prediction_days()",
      "execution_count": null,
      "outputs": []
    },
    {
      "metadata": {
        "trusted": true,
        "_uuid": "97c82851789c2aa5a57200d33f160bf21da47d14"
      },
      "cell_type": "code",
      "source": "count = 1\nfor (market_obs_df, news_obs_df, predictions_template_df) in days:\n    make_predictions(predictions_template_df, market_obs_df,news_obs_df)\n    env.predict(predictions_template_df)\n    print(count)\n    count = count + 1\nprint('Done!')",
      "execution_count": null,
      "outputs": []
    },
    {
      "metadata": {
        "trusted": true,
        "_uuid": "dc9e84fb41526c4fcaea6a6342192d14bf9c86e1"
      },
      "cell_type": "code",
      "source": "env.predict(predictions_template_df)",
      "execution_count": null,
      "outputs": []
    },
    {
      "metadata": {
        "trusted": true,
        "_uuid": "e3e3d9e7bb5b206d4e810b2c988a5d0d51fd8b48",
        "scrolled": true
      },
      "cell_type": "code",
      "source": "env.write_submission_file()",
      "execution_count": null,
      "outputs": []
    },
    {
      "metadata": {
        "trusted": true,
        "_uuid": "acd517bfc5511267ad7d5ef317e66c198a59cd6b"
      },
      "cell_type": "code",
      "source": "",
      "execution_count": null,
      "outputs": []
    },
    {
      "metadata": {
        "trusted": true,
        "_uuid": "9647ca8767b3c6b86c064d3508b5dd5ea7f0d344"
      },
      "cell_type": "code",
      "source": "",
      "execution_count": null,
      "outputs": []
    },
    {
      "metadata": {
        "trusted": true,
        "_uuid": "551516c397b5d246efa72c212d304e4630da83b5"
      },
      "cell_type": "code",
      "source": "",
      "execution_count": null,
      "outputs": []
    },
    {
      "metadata": {
        "trusted": true,
        "_uuid": "67f2b73a7f3eaa5d5198c1a9e254e73b3ef1e501"
      },
      "cell_type": "code",
      "source": "",
      "execution_count": null,
      "outputs": []
    },
    {
      "metadata": {
        "trusted": true,
        "_uuid": "bf9c7c432d7ddb97324d3bd11ed7a3d245509152"
      },
      "cell_type": "code",
      "source": "",
      "execution_count": null,
      "outputs": []
    },
    {
      "metadata": {
        "trusted": true,
        "_uuid": "ed73caed7009dd31ed4d1a51dcb6093ef9922412"
      },
      "cell_type": "code",
      "source": "",
      "execution_count": null,
      "outputs": []
    },
    {
      "metadata": {
        "trusted": true,
        "_uuid": "221155035def579b499f6259969b7a3bb636d544"
      },
      "cell_type": "code",
      "source": "",
      "execution_count": null,
      "outputs": []
    },
    {
      "metadata": {
        "trusted": true,
        "_uuid": "f9f437af1b3c382feab7cf9dd9d61283efbeed83"
      },
      "cell_type": "code",
      "source": "",
      "execution_count": null,
      "outputs": []
    },
    {
      "metadata": {
        "trusted": true,
        "_uuid": "feb5694b8c7495d47608206c43f4c4e3a67e2e65"
      },
      "cell_type": "code",
      "source": "",
      "execution_count": null,
      "outputs": []
    },
    {
      "metadata": {
        "trusted": true,
        "_uuid": "44a688b45f4cdc1fb4332b317f6428d6e6ca9f06"
      },
      "cell_type": "code",
      "source": "",
      "execution_count": null,
      "outputs": []
    },
    {
      "metadata": {
        "trusted": true,
        "_uuid": "3a2d85f6021be0174763065f05bf8d61e46a0f7a"
      },
      "cell_type": "code",
      "source": "",
      "execution_count": null,
      "outputs": []
    },
    {
      "metadata": {
        "trusted": true,
        "_uuid": "69f91355f65ad1c990957391fb6b825e2a6f2735"
      },
      "cell_type": "code",
      "source": "",
      "execution_count": null,
      "outputs": []
    },
    {
      "metadata": {
        "trusted": true,
        "_uuid": "9432118fa9cc9b1718efbc5ac7c0273ac23006bf"
      },
      "cell_type": "code",
      "source": "",
      "execution_count": null,
      "outputs": []
    },
    {
      "metadata": {
        "trusted": true,
        "_uuid": "bfb3e254b2f72f199ab996438b8cdf4bb3cd828e"
      },
      "cell_type": "code",
      "source": "",
      "execution_count": null,
      "outputs": []
    },
    {
      "metadata": {
        "trusted": true,
        "_uuid": "147fcdefb11ea970778e48d8959365d70729e837"
      },
      "cell_type": "code",
      "source": "",
      "execution_count": null,
      "outputs": []
    },
    {
      "metadata": {
        "trusted": true,
        "_uuid": "4a4db4678514e5c3372d6c4ac155a828bbb91f2d"
      },
      "cell_type": "code",
      "source": "",
      "execution_count": null,
      "outputs": []
    },
    {
      "metadata": {
        "trusted": true,
        "_uuid": "88face268ad250f725e6445f14b42856758c7519"
      },
      "cell_type": "code",
      "source": "",
      "execution_count": null,
      "outputs": []
    },
    {
      "metadata": {
        "trusted": true,
        "_uuid": "af3bc0602c9bbc23dea8e6a8d35a457a153c20e0"
      },
      "cell_type": "code",
      "source": "",
      "execution_count": null,
      "outputs": []
    },
    {
      "metadata": {
        "trusted": true,
        "_uuid": "8f272874088877a5b0d7a37c1f7ec71e3bd28ecd"
      },
      "cell_type": "code",
      "source": "",
      "execution_count": null,
      "outputs": []
    },
    {
      "metadata": {
        "trusted": true,
        "_uuid": "e9e9dbf200a9a7d95a37f47ff6471ea9e364529e"
      },
      "cell_type": "code",
      "source": "",
      "execution_count": null,
      "outputs": []
    },
    {
      "metadata": {
        "trusted": true,
        "_uuid": "f0a5cc12a6b20033c1a357a938dc086a450aa1b8"
      },
      "cell_type": "code",
      "source": "\n",
      "execution_count": null,
      "outputs": []
    },
    {
      "metadata": {
        "trusted": true,
        "_uuid": "90ef2060ab0d4ad7de6a68584cdeaa5d254ff438"
      },
      "cell_type": "code",
      "source": "",
      "execution_count": null,
      "outputs": []
    },
    {
      "metadata": {
        "trusted": true,
        "_uuid": "c4f2e083310634ae876431bbdb97313b6144c5ad"
      },
      "cell_type": "code",
      "source": "",
      "execution_count": null,
      "outputs": []
    },
    {
      "metadata": {
        "trusted": true,
        "_uuid": "6db24dea85e6bb6e6f9f292e84bff856deb7f7f0"
      },
      "cell_type": "code",
      "source": "days = env.get_prediction_days()\n(market_obs_df, news_obs_df, predictions_template_df) = next(days)\n",
      "execution_count": null,
      "outputs": []
    },
    {
      "metadata": {
        "trusted": true,
        "_uuid": "539a78557c0048734c702ca5a885a53f7416f718"
      },
      "cell_type": "code",
      "source": "news_obs_df.head()",
      "execution_count": null,
      "outputs": []
    },
    {
      "metadata": {
        "trusted": true,
        "_uuid": "31f49bd256fb73dd4578113421867645fdffb7c0"
      },
      "cell_type": "code",
      "source": "news_obs_df['assetCode'] = news_obs_df['assetCodes'] ",
      "execution_count": null,
      "outputs": []
    },
    {
      "metadata": {
        "trusted": true,
        "_uuid": "eeb03cd92be05239d836d2f1d2380e5adda79366"
      },
      "cell_type": "code",
      "source": "len(df2['assetCode'].unique())",
      "execution_count": null,
      "outputs": []
    },
    {
      "metadata": {
        "trusted": true,
        "_uuid": "1c91d6c2b8029d0a2933150b1f4056d3c6c0c4d0"
      },
      "cell_type": "code",
      "source": "df2.info()",
      "execution_count": null,
      "outputs": []
    },
    {
      "metadata": {
        "trusted": true,
        "_uuid": "2833d1fc4bbb8270f0f5780ac005e3a6f174a6e4"
      },
      "cell_type": "code",
      "source": " df2 = market_obs_df.merge(news_obs_df,on=['assetName'])\n",
      "execution_count": null,
      "outputs": []
    },
    {
      "metadata": {
        "trusted": true,
        "_uuid": "5bc3e444aaf3e52a7802db212814a09344d84ae2"
      },
      "cell_type": "code",
      "source": "X2 = df2[['returnsClosePrevRaw1','returnsClosePrevMktres1','returnsOpenPrevMktres1','returnsOpenPrevRaw10','returnsClosePrevRaw10','urgency',\n      'sentenceCount','wordCount','firstMentionSentence','relevance','sentimentClass','sentimentNegative','sentimentNeutral','sentimentPositive','sentimentWordCount','noveltyCount12H','noveltyCount24H','noveltyCount3D','noveltyCount5D','noveltyCount7D','volumeCounts12H','volumeCounts24H','volumeCounts3D','volumeCounts5D','volumeCounts7D']]",
      "execution_count": null,
      "outputs": []
    },
    {
      "metadata": {
        "trusted": true,
        "_uuid": "78dda2a2fb4b8a255dadb6308012c639854051a1"
      },
      "cell_type": "code",
      "source": "X2 = X2.fillna(0)",
      "execution_count": null,
      "outputs": []
    },
    {
      "metadata": {
        "trusted": true,
        "_uuid": "30049efd0a46673ae9d8dd18dc39d110bf19d0ac"
      },
      "cell_type": "code",
      "source": "X2.head()",
      "execution_count": null,
      "outputs": []
    },
    {
      "metadata": {
        "trusted": true,
        "_uuid": "3a7a7dcc9f91b558ff68331f911922b34986dd04"
      },
      "cell_type": "code",
      "source": "",
      "execution_count": null,
      "outputs": []
    },
    {
      "metadata": {
        "trusted": true,
        "_uuid": "914373c5a848ff1cff365aeae2e36b46a22ece96"
      },
      "cell_type": "code",
      "source": "X = mlp.predict(X2)",
      "execution_count": null,
      "outputs": []
    },
    {
      "metadata": {
        "trusted": true,
        "_uuid": "e66e04106835420974d5f7a63c2c36d1468ed0a1"
      },
      "cell_type": "code",
      "source": "df2.shape",
      "execution_count": null,
      "outputs": []
    },
    {
      "metadata": {
        "trusted": true,
        "_uuid": "a42d31f73972d6890215c865aae6fd3ec4fdf916"
      },
      "cell_type": "code",
      "source": "X2 = df2[['returnsClosePrevRaw1','returnsClosePrevMktres1','returnsOpenPrevMktres1','returnsOpenPrevRaw10','returnsClosePrevRaw10','urgency',\n      'sentenceCount','wordCount','firstMentionSentence','relevance','sentimentClass','sentimentNegative','sentimentNeutral','sentimentPositive','sentimentWordCount','noveltyCount12H','noveltyCount24H','noveltyCount3D','noveltyCount5D','noveltyCount7D','volumeCounts12H','volumeCounts24H','volumeCounts3D','volumeCounts5D','volumeCounts7D']]",
      "execution_count": null,
      "outputs": []
    },
    {
      "metadata": {
        "trusted": true,
        "_uuid": "25a207a4c977eea6e896a6a62fa694f210413527"
      },
      "cell_type": "code",
      "source": "predictions_template_df['confidenceValue'] = X",
      "execution_count": null,
      "outputs": []
    },
    {
      "metadata": {
        "trusted": true,
        "_uuid": "8746897a5096ff4f8af36d65e058ccb06da452e9"
      },
      "cell_type": "code",
      "source": "len(predictions_template_df['assetCode'].unique())",
      "execution_count": null,
      "outputs": []
    },
    {
      "metadata": {
        "trusted": true,
        "_uuid": "d1344a56bfbe8cd1460308e36cfb807fb1fd9278"
      },
      "cell_type": "code",
      "source": "news_obs_df.head()",
      "execution_count": null,
      "outputs": []
    },
    {
      "metadata": {
        "trusted": true,
        "_uuid": "dd3c1812c5b50191339f139e54fceacd3fc0e06e"
      },
      "cell_type": "code",
      "source": "env.predict(predictions_template_df)",
      "execution_count": null,
      "outputs": []
    },
    {
      "metadata": {
        "trusted": true,
        "_uuid": "769edbba052746e8d20d75a9f1bee4c6b751c06e"
      },
      "cell_type": "code",
      "source": "def con_value(x):\n    if x > 1:\n        return 1\n    elif x < -1:\n        return -1\n    else:\n        return x",
      "execution_count": null,
      "outputs": []
    },
    {
      "metadata": {
        "trusted": true,
        "_uuid": "4da20fc1032888adc3967a589bbf587b679a5d14"
      },
      "cell_type": "code",
      "source": "predictions_template_df['confidenceValue'] = predictions_template_df['confidenceValue'].apply(con_value)",
      "execution_count": null,
      "outputs": []
    },
    {
      "metadata": {
        "trusted": true,
        "_uuid": "c202a160a7a75bcb33ecf09a852a8f9ac6aea395"
      },
      "cell_type": "code",
      "source": "X.reshape(1832,)",
      "execution_count": null,
      "outputs": []
    },
    {
      "metadata": {
        "trusted": true,
        "_uuid": "bd8657df51bb8190ca880f172179df3d5e78ae23"
      },
      "cell_type": "code",
      "source": "predictions_template_df.shape",
      "execution_count": null,
      "outputs": []
    },
    {
      "metadata": {
        "trusted": true,
        "_uuid": "7d98341e2d95355ffba9b58960832a5221a912ad"
      },
      "cell_type": "code",
      "source": "predictions_template_df['confidenceValue'] = X   ",
      "execution_count": null,
      "outputs": []
    },
    {
      "metadata": {
        "trusted": true,
        "_uuid": "5e47a51ed2e69f769e56b82a3f20fea22e515eb6"
      },
      "cell_type": "code",
      "source": "predictions_template_df['confidenceValue'] = 2.0 * np.random.rand(len(predictions_template_df)) - 1.0",
      "execution_count": null,
      "outputs": []
    },
    {
      "metadata": {
        "trusted": true,
        "_uuid": "1611604398cbd1ca9e7516e5d483aabafd9ee5cf"
      },
      "cell_type": "code",
      "source": "for (market_obs_df, news_obs_df, predictions_template_df) in days: \n    df2 = market_obs_df.merge(news_obs_df,left_index=True,right_index=True)\n    X2 = df2[['returnsClosePrevRaw1','returnsClosePrevMktres1','returnsOpenPrevMktres1','returnsOpenPrevRaw10','returnsClosePrevRaw10','urgency','sentenceCount','wordCount','firstMentionSentence','relevance','sentimentClass','sentimentNegative','sentimentNeutral','sentimentPositive','sentimentWordCount','noveltyCount12H','noveltyCount24H','noveltyCount3D','noveltyCount5D','noveltyCount7D','volumeCounts12H','volumeCounts24H','volumeCounts3D','volumeCounts5D','volumeCounts7D']]\n    X2 = X2.fillna(0) \n    X = mlp.predict(X2)\n#     predictions_template_df['confidenceValue'] = 2.0 * np.random.rand(len(predictions_template_df)) - 1.0\n    predictions_template_df['confidenceValue'] = X    \n    predictions_template_df['confidenceValue'] = predictions_template_df['confidenceValue'].apply(con_value)    \n    env.predict(predictions_template_df)",
      "execution_count": null,
      "outputs": []
    },
    {
      "metadata": {
        "trusted": true,
        "_uuid": "41d140859f650c1ad1eb3febeffbfe63736ec842"
      },
      "cell_type": "code",
      "source": "env.write_submission_file()",
      "execution_count": null,
      "outputs": []
    },
    {
      "metadata": {
        "trusted": true,
        "_uuid": "1b77932d82a4bd890cd5be702a408651760d0289"
      },
      "cell_type": "code",
      "source": "",
      "execution_count": null,
      "outputs": []
    },
    {
      "metadata": {
        "_uuid": "85a7762a0d8906d24e90da00f4e14cf77ef79e01"
      },
      "cell_type": "raw",
      "source": ""
    }
  ],
  "metadata": {
    "kernelspec": {
      "display_name": "Python 3",
      "language": "python",
      "name": "python3"
    },
    "language_info": {
      "name": "python",
      "version": "3.6.6",
      "mimetype": "text/x-python",
      "codemirror_mode": {
        "name": "ipython",
        "version": 3
      },
      "pygments_lexer": "ipython3",
      "nbconvert_exporter": "python",
      "file_extension": ".py"
    }
  },
  "nbformat": 4,
  "nbformat_minor": 1
}